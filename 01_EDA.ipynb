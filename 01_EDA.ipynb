{
 "cells": [
  {
   "cell_type": "code",
   "execution_count": 1,
   "metadata": {},
   "outputs": [],
   "source": [
    "%reload_ext autoreload\n",
    "%autoreload 2"
   ]
  },
  {
   "cell_type": "code",
   "execution_count": 3,
   "metadata": {},
   "outputs": [
    {
     "name": "stdout",
     "output_type": "stream",
     "text": [
      "    PassengerId  Survived  Pclass  ...     Fare Cabin  Embarked\n",
      "1             2         1       1  ...  71.2833   C85         C\n",
      "2             3         1       3  ...   7.9250   NaN         S\n",
      "3             4         1       1  ...  53.1000  C123         S\n",
      "8             9         1       3  ...  11.1333   NaN         S\n",
      "9            10         1       2  ...  30.0708   NaN         C\n",
      "10           11         1       3  ...  16.7000    G6         S\n",
      "11           12         1       1  ...  26.5500  C103         S\n",
      "14           15         0       3  ...   7.8542   NaN         S\n",
      "15           16         1       2  ...  16.0000   NaN         S\n",
      "18           19         0       3  ...  18.0000   NaN         S\n",
      "\n",
      "[10 rows x 12 columns]\n"
     ]
    }
   ],
   "source": [
    "from utils import female\n",
    "results = female()\n",
    "print(results.head(10))"
   ]
  }
 ],
 "metadata": {
  "kernelspec": {
   "display_name": "Python 3.9.12 ('base')",
   "language": "python",
   "name": "python3"
  },
  "language_info": {
   "codemirror_mode": {
    "name": "ipython",
    "version": 3
   },
   "file_extension": ".py",
   "mimetype": "text/x-python",
   "name": "python",
   "nbconvert_exporter": "python",
   "pygments_lexer": "ipython3",
   "version": "3.9.12"
  },
  "orig_nbformat": 4,
  "vscode": {
   "interpreter": {
    "hash": "7db446930034ef0814d6081f93222e2e556135f4daabe5338ac926c9feeb5ff8"
   }
  }
 },
 "nbformat": 4,
 "nbformat_minor": 2
}
