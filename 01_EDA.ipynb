{
 "cells": [
  {
   "cell_type": "code",
   "execution_count": 8,
   "metadata": {},
   "outputs": [],
   "source": [
    "%reload_ext autoreload\n",
    "%autoreload 2"
   ]
  },
  {
   "cell_type": "code",
   "execution_count": 10,
   "metadata": {},
   "outputs": [
    {
     "name": "stdout",
     "output_type": "stream",
     "text": [
      "    PassengerId  Survived  Pclass  ...     Fare Cabin  Embarked\n",
      "0             1         0       3  ...   7.2500   NaN         S\n",
      "4             5         0       3  ...   8.0500   NaN         S\n",
      "5             6         0       3  ...   8.4583   NaN         Q\n",
      "6             7         0       1  ...  51.8625   E46         S\n",
      "7             8         0       3  ...  21.0750   NaN         S\n",
      "12           13         0       3  ...   8.0500   NaN         S\n",
      "13           14         0       3  ...  31.2750   NaN         S\n",
      "16           17         0       3  ...  29.1250   NaN         Q\n",
      "17           18         1       2  ...  13.0000   NaN         S\n",
      "20           21         0       2  ...  26.0000   NaN         S\n",
      "\n",
      "[10 rows x 12 columns]\n"
     ]
    }
   ],
   "source": [
    "from utils import male\n",
    "results = male()\n",
    "print(results.head(10))"
   ]
  }
 ],
 "metadata": {
  "kernelspec": {
   "display_name": "Python 3.9.12 ('base')",
   "language": "python",
   "name": "python3"
  },
  "language_info": {
   "codemirror_mode": {
    "name": "ipython",
    "version": 3
   },
   "file_extension": ".py",
   "mimetype": "text/x-python",
   "name": "python",
   "nbconvert_exporter": "python",
   "pygments_lexer": "ipython3",
   "version": "3.9.12"
  },
  "orig_nbformat": 4,
  "vscode": {
   "interpreter": {
    "hash": "7db446930034ef0814d6081f93222e2e556135f4daabe5338ac926c9feeb5ff8"
   }
  }
 },
 "nbformat": 4,
 "nbformat_minor": 2
}
